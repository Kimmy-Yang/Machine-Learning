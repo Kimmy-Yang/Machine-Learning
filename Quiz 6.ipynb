{
 "cells": [
  {
   "cell_type": "markdown",
   "id": "2a6b97dc-99bf-4e8d-94b5-3780dd3c5eae",
   "metadata": {},
   "source": [
    "Consider the code template loading the breast cancer Wisconsin data from sklearn. Investigate various feature transformation techniques: centering, standardisation, unit range and normalisation with l2-norm as defined one the slides \"Examples of feature transformations\". Fit Lasso from sklearn (use tol=1e-3 and max_iter=1e5) to the transformed training sets and investigate the accuracies and sparsities obtained with different levels of regularisation. In the sklearn's implementation the regularisation parameter, called λ in the lecture slides, is set with alpha.\n",
    "\n",
    "Note: while feature transformation techniques can be (and often are) applied consecutively, in this question only one feature transformation technique is applied at a time. Also recall good machine learning practices about testing: nothing about the test set should be leaked to the training stage. This means that the feature transformations should be also defined only based on the training data.\n",
    "\n",
    "Hints: The following numpy functions might be useful (but by no means mandatory): count_nonzero, logspace.\n",
    "If you obtain multiple results with the same level of sparsity, you can consider only the results with maximum accuracy"
   ]
  },
  {
   "cell_type": "markdown",
   "id": "01e98700-cafc-464d-99cc-a178c8c4bd8c",
   "metadata": {},
   "source": [
    "Q2: With which feature transformation technique(s) can you obtain at least 90% accuracy on the test set with fewest selected features? Note:  Multiple choices may be correct. Marks are not awarded for partially correct solutions\n",
    "\n",
    "\n",
    "Normalization of feature vectors"
   ]
  },
  {
   "cell_type": "markdown",
   "id": "dd126e8a-7851-4f82-8266-cefe6fb901be",
   "metadata": {},
   "source": [
    "Q3: With which feature transformation technique(s) can you obtain over 85% accuracy on the test set already with one feature? Note: Multiple choices may be correct. Marks are not awarded for partially correct solutions\n",
    "\n",
    "No feature transformation; Centering"
   ]
  },
  {
   "cell_type": "code",
   "execution_count": 47,
   "id": "3a977552-99cd-4a63-955e-32d1ead4658e",
   "metadata": {},
   "outputs": [],
   "source": [
    "import numpy as np\n",
    "from sklearn.datasets import load_breast_cancer\n",
    "from sklearn.metrics import accuracy_score\n"
   ]
  },
  {
   "cell_type": "code",
   "execution_count": 48,
   "id": "531b0887-ebc0-4a94-a242-690a32ba0b57",
   "metadata": {},
   "outputs": [
    {
     "name": "stdout",
     "output_type": "stream",
     "text": [
      "Data shapes: (569, 30) (569,)\n"
     ]
    }
   ],
   "source": [
    "X_original, y_original = load_breast_cancer(return_X_y= True)\n",
    "# return_X_y=True is an easy option here to apply ML algorithms,\n",
    "# with return_X_y=False, a pandas dataframe is returened\n",
    "y_original[y_original ==0]=-1\n",
    "print(\"Data shapes:\", X_original.shape, y_original.shape)"
   ]
  },
  {
   "cell_type": "code",
   "execution_count": 50,
   "id": "3b52de02-648c-4dd4-abf4-2258470c4535",
   "metadata": {},
   "outputs": [
    {
     "name": "stdout",
     "output_type": "stream",
     "text": [
      "\n",
      "feature names:\n",
      "0 mean radius\n",
      "1 mean texture\n",
      "2 mean perimeter\n",
      "3 mean area\n",
      "4 mean smoothness\n",
      "5 mean compactness\n",
      "6 mean concavity\n",
      "7 mean concave points\n",
      "8 mean symmetry\n",
      "9 mean fractal dimension\n",
      "10 radius error\n",
      "11 texture error\n",
      "12 perimeter error\n",
      "13 area error\n",
      "14 smoothness error\n",
      "15 compactness error\n",
      "16 concavity error\n",
      "17 concave points error\n",
      "18 symmetry error\n",
      "19 fractal dimension error\n",
      "20 worst radius\n",
      "21 worst texture\n",
      "22 worst perimeter\n",
      "23 worst area\n",
      "24 worst smoothness\n",
      "25 worst compactness\n",
      "26 worst concavity\n",
      "27 worst concave points\n",
      "28 worst symmetry\n",
      "29 worst fractal dimension\n"
     ]
    }
   ],
   "source": [
    "# In this dataframe, there is more information about the data, for example the feature names:\n",
    "bc_pandas_frame = load_breast_cancer(return_X_y=False)\n",
    "print(\"\\nfeature names:\")\n",
    "for ii in range(X_original.shape[1]):\n",
    "    print(ii, bc_pandas_frame.feature_names[ii])"
   ]
  },
  {
   "cell_type": "code",
   "execution_count": 51,
   "id": "8797be8c-2f53-438c-83f8-ce04f8d29dba",
   "metadata": {},
   "outputs": [],
   "source": [
    "# divide into trainiing and testing\n",
    "np.random.seed(7)\n",
    "order = np.random.permutation(len(y_original))\n",
    "tr = np.sort(order[:250])\n",
    "tst = np.sort(order[250:])"
   ]
  },
  {
   "cell_type": "code",
   "execution_count": 52,
   "id": "4ec155a7-8821-4c9e-a7c1-cc4f52a94809",
   "metadata": {},
   "outputs": [
    {
     "name": "stdout",
     "output_type": "stream",
     "text": [
      "\n",
      "Classes in training: Counter({1: 169, -1: 81})\n",
      "Classes in testing: Counter({1: 188, -1: 131})\n",
      "Majority vote accuracy: 58.93\n"
     ]
    }
   ],
   "source": [
    "from collections import Counter\n",
    "print(\"\\nClasses in training:\", Counter(y_original[tr]))\n",
    "print(\"Classes in testing:\", Counter(y_original[tst]))\n",
    "print(\"Majority vote accuracy:\", np.round(100*accuracy_score(y_original[tst],\n",
    "                                                           np.sign(np.sum(y_original[tr]))*np.ones(len(tst))),2))"
   ]
  },
  {
   "cell_type": "code",
   "execution_count": 53,
   "id": "6d16b82c-f6be-446d-bfdb-36d48cdb99f8",
   "metadata": {},
   "outputs": [],
   "source": [
    "for ii in range(5):\n",
    "    X=np.copy(X_original)\n",
    "    y=np.copy(y_original)\n",
    "    titlestr = \"original\"\n",
    "    \n",
    "    ############################################\n",
    "    ## Centering\n",
    "    if ii ==1:\n",
    "        trmean = np.mean(X[tr,:], axis = 0)\n",
    "        X = X-trmean[np.newaxis, :] # mean over axis=0 returns mean of each colum\n",
    "        titlestr = \"centering\"\n",
    "        \n",
    "    ## Standardisation\n",
    "    elif ii==2:\n",
    "        trmean = np.mean(X[tr,:], axis = 0)\n",
    "        trvar=np.var(X[tr,:], axis= 0)\n",
    "        X = (X-trmean[np.newaxis, :])/ np.sqrt(trvar)[np.newaxis,:]\n",
    "        titlestr = \"standardisation\"\n",
    "        \n",
    "    ## Unit range\n",
    "    elif ii ==3:\n",
    "        trmax = np.max(X[tr,:], axis = 0)\n",
    "        trmin = np.min(X[tr,:], axis = 0)\n",
    "        X = (X - trmin[np.newaxis, :]) / (trmax - trmin)[np.newaxis,:]\n",
    "        titlestr = \"Unit range\"\n",
    "        \n",
    "    ## Normalization\n",
    "    elif ii ==4:\n",
    "        X=X/np.linalg.norm(X, axis=1)[:,np.newaxis]\n",
    "        titlestr = \"Normalization\""
   ]
  },
  {
   "cell_type": "code",
   "execution_count": 26,
   "id": "e1e9c310-7493-4575-ab44-8ae9dbb83852",
   "metadata": {},
   "outputs": [
    {
     "data": {
      "image/png": "[encoded data removed]",
      "text/plain": [
       "<Figure size 432x288 with 1 Axes>"
      ]
     },
     "metadata": {
      "needs_background": "light"
     },
     "output_type": "display_data"
    }
   ],
   "source": [
    "import matplotlib.pyplot as plt\n",
    "\n",
    "plt.figure()\n",
    "for ii in range(X.shape[1]):\n",
    "    # features ordered: training first, then testing\n",
    "    plt.plot(np.arange(X.shape[0]), np.append(X[tr,:][:,ii], X[tst,:][:,ii]))\n",
    "    plt.axvline(x=len(tr), c=\"k\")\n",
    "    plt.title(titlestr)\n",
    "plt.xlabel(\"sample index\")\n",
    "plt.ylabel(\"feature value\")\n",
    "plt.show()\n",
    "    "
   ]
  },
  {
   "cell_type": "code",
   "execution_count": 39,
   "id": "2358e856-8269-4a6f-8b8a-242c9c768681",
   "metadata": {},
   "outputs": [
    {
     "name": "stdout",
     "output_type": "stream",
     "text": [
      "**************************************************\n",
      "50 parameters for Lasso\n",
      "\n",
      "parameters for lasso:\n",
      "[1.00000000e-06 1.38949549e-06 1.93069773e-06 2.68269580e-06\n",
      " 3.72759372e-06 5.17947468e-06 7.19685673e-06 1.00000000e-05\n",
      " 1.38949549e-05 1.93069773e-05 2.68269580e-05 3.72759372e-05\n",
      " 5.17947468e-05 7.19685673e-05 1.00000000e-04 1.38949549e-04\n",
      " 1.93069773e-04 2.68269580e-04 3.72759372e-04 5.17947468e-04\n",
      " 7.19685673e-04 1.00000000e-03 1.38949549e-03 1.93069773e-03\n",
      " 2.68269580e-03 3.72759372e-03 5.17947468e-03 7.19685673e-03\n",
      " 1.00000000e-02 1.38949549e-02 1.93069773e-02 2.68269580e-02\n",
      " 3.72759372e-02 5.17947468e-02 7.19685673e-02 1.00000000e-01\n",
      " 1.38949549e-01 1.93069773e-01 2.68269580e-01 3.72759372e-01\n",
      " 5.17947468e-01 7.19685673e-01 1.00000000e+00 1.38949549e+00\n",
      " 1.93069773e+00 2.68269580e+00 3.72759372e+00 5.17947468e+00\n",
      " 7.19685673e+00 1.00000000e+01]\n"
     ]
    }
   ],
   "source": [
    "# Lasso classificaiton\n",
    "for n_lassoparams in [50]: \n",
    "    print(\"*\"*50)\n",
    "    print(n_lassoparams, \"parameters for Lasso\")\n",
    "    \n",
    "    \n",
    "    params = np.logspace(-6,1,n_lassoparams, endpoint=True)\n",
    "    print(\"\\nparameters for lasso:\")\n",
    "    print(params)\n"
   ]
  },
  {
   "cell_type": "code",
   "execution_count": 46,
   "id": "94862818-33cd-49a3-bbe9-14e4b55d9ba3",
   "metadata": {},
   "outputs": [
    {
     "name": "stdout",
     "output_type": "stream",
     "text": [
      "\n",
      "Normalization\n",
      "\n",
      "Normalization accuracy with 1 feature: 69.90595611285266\n",
      "Normalization over 90%:  2\n"
     ]
    },
    {
     "data": {
      "image/png": "[encoded data removed]",
      "text/plain": [
       "<Figure size 432x288 with 1 Axes>"
      ]
     },
     "metadata": {
      "needs_background": "light"
     },
     "output_type": "display_data"
    }
   ],
   "source": [
    "plt.figure()\n",
    "for ii in range(5):\n",
    "    X=np.copy(X_original)\n",
    "    y=np.copy(y_original)\n",
    "    titlestr = \"original\"\n",
    "    \n",
    "    ############################################\n",
    "    ## Centering\n",
    "    if ii ==1:\n",
    "        trmean = np.mean(X[tr,:], axis = 0)\n",
    "        X = X-trmean[np.newaxis, :] # mean over axis=0 returns mean of each colum\n",
    "        titlestr = \"centering\"\n",
    "        \n",
    "    ## Standardisation\n",
    "    elif ii==2:\n",
    "        trmean = np.mean(X[tr,:], axis = 0)\n",
    "        trvar=np.var(X[tr,:], axis= 0)\n",
    "        X = (X-trmean[np.newaxis, :])/ np.sqrt(trvar)[np.newaxis,:]\n",
    "        titlestr = \"standardisation\"\n",
    "        \n",
    "    ## Unit range\n",
    "    elif ii ==3:\n",
    "        trmax = np.max(X[tr,:], axis = 0)\n",
    "        trmin = np.min(X[tr,:], axis = 0)\n",
    "        X = (X - trmin[np.newaxis, :]) / (trmax - trmin)[np.newaxis,:]\n",
    "        titlestr = \"Unit range\"\n",
    "        \n",
    "    ## Normalization\n",
    "    elif ii ==4:\n",
    "        X=X/np.linalg.norm(X, axis=1)[:,np.newaxis]\n",
    "        titlestr = \"Normalization\"\n",
    "print()\n",
    "print(titlestr)\n",
    "from sklearn. linear_model import Lasso\n",
    "accs = []\n",
    "n_feats = []\n",
    "# go thro all the parames that are chosen to be investigated\n",
    "\n",
    "for param in params:\n",
    "    # fit the Lasso model, obtain predictions on test set\n",
    "    lasso = Lasso(alpha=param, tol=1e-3, max_iter=1e5) # 1e5= 1*100000\n",
    "    lasso.fit(X[tr,:], y[tr])\n",
    "    preds=lasso.predict(X[tst,:])\n",
    "    # count how many features are selected; we are not interested in the case wehn none were selected\n",
    "    if np.count_nonzero(lasso.coef_)>0:\n",
    "        theacc=accuracy_score(y[tst], np.sign(preds))\n",
    "        number_of_feats=np.count_nonzero(lasso.coef_)\n",
    "        # if there are multiple results with same sparsity (number of features), consider only the highest\n",
    "        if number_of_feats not in n_feats:\n",
    "            accs.append(theacc)\n",
    "            n_feats.append(number_of_feats)\n",
    "        else:\n",
    "            nfeat_indx=np.where(np.array(n_feats)==number_of_feats)[0][0]\n",
    "            if accs[nfeat_indx]<theacc:\n",
    "                accs[nfeat_indx]=theacc\n",
    "accs = np.array(accs)*100\n",
    "n_feats = np.array(n_feats)\n",
    "\n",
    "# sort for plotting\n",
    "order=np.argsort(n_feats)\n",
    "n_feats = n_feats[order]\n",
    "accs = accs[order]\n",
    "print()\n",
    "\n",
    "plt.subplot(231 +ii)\n",
    "# plot sparsity vs accuracy\n",
    "plt.plot(n_feats, accs, marker='o')\n",
    "\n",
    "#print accuracy with one feature\n",
    "print(titlestr+\" accuracy with \"+ str(np.min(n_feats))+\" feature:\", accs[np.argmin(n_feats)])\n",
    "\n",
    "# check with how many features over 90% accuracy is obtained\n",
    "inds = np.where(accs > 90)[0]\n",
    "if len(inds)>0:\n",
    "    #highlight with red accuracies over 90 in the plot\n",
    "    plt.plot(n_feats[inds], accs[inds], c=\"r\", marker='x')\n",
    "    print(titlestr + \" over 90%: \", np.min(n_feats[inds]))\n",
    "else:\n",
    "    print(titlestr+ \" over 90%: -\")"
   ]
  }
 ],
 "metadata": {
  "kernelspec": {
   "display_name": "Python 3",
   "language": "python",
   "name": "python3"
  },
  "language_info": {
   "codemirror_mode": {
    "name": "ipython",
    "version": 3
   },
   "file_extension": ".py",
   "mimetype": "text/x-python",
   "name": "python",
   "nbconvert_exporter": "python",
   "pygments_lexer": "ipython3",
   "version": "3.9.5"
  }
 },
 "nbformat": 4,
 "nbformat_minor": 5
}
