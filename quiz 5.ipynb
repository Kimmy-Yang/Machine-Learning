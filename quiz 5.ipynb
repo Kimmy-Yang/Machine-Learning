{
 "cells": [
  {
   "cell_type": "code",
   "execution_count": null,
   "id": "70f7daf4-fc28-4126-87c7-d73b1e94a4e3",
   "metadata": {},
   "outputs": [],
   "source": [
    "# Assume 25 base learners with independent true risk 0.45 (\u000f = 0.45), are grouped to form a strong\n",
    "# learner via majority voting. What is the probability of having an incorrect aggregated prediction (using the\n",
    "# formula given on the slide “Why can model combination work? A thought experiment” of Lecture about\n",
    "# “Ensemble Learning” )"
   ]
  },
  {
   "cell_type": "code",
   "execution_count": 1,
   "id": "435bf1eb-8424-4701-aae7-708cddeeb6cf",
   "metadata": {},
   "outputs": [
    {
     "name": "stdout",
     "output_type": "stream",
     "text": [
      "0.3063239659244821\n"
     ]
    }
   ],
   "source": [
    "import numpy as np\n",
    "from scipy.stats import binom\n",
    "\n",
    "L=25 ## number of learners\n",
    "eps = 0.45 ## true risk\n",
    "\n",
    "Rh=0\n",
    "for k in range(int(np.ceil(L/2)), L+1):\n",
    "    Rh+= binom.pmf(k,L,eps)\n",
    "    \n",
    "print(Rh)    "
   ]
  }
 ],
 "metadata": {
  "kernelspec": {
   "display_name": "Python 3",
   "language": "python",
   "name": "python3"
  },
  "language_info": {
   "codemirror_mode": {
    "name": "ipython",
    "version": 3
   },
   "file_extension": ".py",
   "mimetype": "text/x-python",
   "name": "python",
   "nbconvert_exporter": "python",
   "pygments_lexer": "ipython3",
   "version": "3.9.5"
  }
 },
 "nbformat": 4,
 "nbformat_minor": 5
}
